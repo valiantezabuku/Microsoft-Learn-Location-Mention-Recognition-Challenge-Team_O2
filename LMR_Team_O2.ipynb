{
 "cells": [
  {
   "cell_type": "markdown",
   "metadata": {},
   "source": [
    "## Microsoft Location Mention Recognition Challenge by Team_O2"
   ]
  },
  {
   "cell_type": "code",
   "execution_count": 1,
   "metadata": {},
   "outputs": [],
   "source": [
    "# Import the necesssary Libraries and Dependencies\n",
    "import pandas as pd\n",
    "import json\n",
    "import os\n",
    "import math\n",
    "import re\n",
    "import numpy as np\n",
    "import torch\n",
    "from torchvision import datasets\n",
    "from torchvision.transforms import ToTensor, Lambda\n",
    "\n",
    "# Set the maximum width of pandas DataFrame to 1000\n",
    "pd.set_option('display.max_columns', 1000)"
   ]
  },
  {
   "cell_type": "code",
   "execution_count": null,
   "metadata": {},
   "outputs": [],
   "source": [
    "# types = {\"Island\": \"ISL\", \"State\": \"STAT\", \"Continent\": \"CONT\", \"City/town\": \"CITY\", \"Country\": \"CTRY\",\n",
    "#         \"County\": \"CNTY\", \"Neighborhood\": \"NBHD\", \"Road/street\": \"ST\", \"District\": \"DIST\", \"Other locations\": \"OTHR\", \n",
    "#         \"Natural Point-of-Interest\": \"NPOI\", \"Human-made Point-of-Interest\": \"HPOI\"}\n",
    "\n",
    "# en_events = [\"california_wildfires_2018\", \"canada_wildfires_2016\", \"cyclone_idai_2019\", \"ecuador_earthquake_2016\",\n",
    "#              \"greece_wildfires_2018\", \"hurricane_dorian_2019\", \"hurricane_florence_2018\", \"hurricane_harvey_2017\",\n",
    "#              \"hurricane_irma_2017\", \"hurricane_maria_2017\", \"hurricane_matthew_2016\", \"italy_earthquake_aug_2016\",\n",
    "#              \"kaikoura_earthquake_2016\", \"kerala_floods_2018\", \"maryland_floods_2018\", \"midwestern_us_floods_2019\",\n",
    "#              \"pakistan_earthquake_2019\", \"puebla_mexico_earthquake_2017\", \"srilanka_floods_2017\"]"
   ]
  },
  {
   "cell_type": "code",
   "execution_count": 3,
   "metadata": {},
   "outputs": [],
   "source": [
    "# Load data\n",
    "train_data = pd.read_json('./Data/california_wildfires_2018/train.jsonl', lines=True)\n",
    "test_data = pd.read_json('./Data/california_wildfires_2018/test_unlabeled.jsonl', lines=True)\n",
    "dev_data = pd.read_json('./Data/california_wildfires_2018/dev.jsonl', lines=True)\n"
   ]
  },
  {
   "cell_type": "code",
   "execution_count": 5,
   "metadata": {},
   "outputs": [],
   "source": [
    "# Initialize an empty list to store the data\n",
    "train_df = []\n",
    "\n",
    "# Open the JSON Lines file and read it line by line\n",
    "with open('./Data/california_wildfires_2018/train.jsonl', 'r') as file:\n",
    "    for line in file:\n",
    "        train_df.append(json.loads(line))\n",
    "\n",
    "# Convert the list of dictionaries into a DataFrame\n",
    "df = pd.DataFrame(train_df)\n"
   ]
  },
  {
   "cell_type": "code",
   "execution_count": 8,
   "metadata": {},
   "outputs": [],
   "source": [
    "# Initialize an empty list to store the data\n",
    "dev_df = []\n",
    "\n",
    "# Open the JSON Lines file and read it line by line\n",
    "with open('./Data/california_wildfires_2018/dev.jsonl', 'r') as file:\n",
    "    for line in file:\n",
    "        dev_df.append(json.loads(line))\n",
    "\n",
    "# Convert the list of dictionaries into a DataFrame\n",
    "df2 = pd.DataFrame(dev_df)\n"
   ]
  },
  {
   "cell_type": "code",
   "execution_count": 9,
   "metadata": {},
   "outputs": [
    {
     "data": {
      "text/html": [
       "<div>\n",
       "<style scoped>\n",
       "    .dataframe tbody tr th:only-of-type {\n",
       "        vertical-align: middle;\n",
       "    }\n",
       "\n",
       "    .dataframe tbody tr th {\n",
       "        vertical-align: top;\n",
       "    }\n",
       "\n",
       "    .dataframe thead th {\n",
       "        text-align: right;\n",
       "    }\n",
       "</style>\n",
       "<table border=\"1\" class=\"dataframe\">\n",
       "  <thead>\n",
       "    <tr style=\"text-align: right;\">\n",
       "      <th></th>\n",
       "      <th>tweet_id</th>\n",
       "      <th>user_id</th>\n",
       "      <th>text</th>\n",
       "      <th>created_at</th>\n",
       "      <th>humAID_class</th>\n",
       "      <th>location_mentions</th>\n",
       "    </tr>\n",
       "  </thead>\n",
       "  <tbody>\n",
       "    <tr>\n",
       "      <th>0</th>\n",
       "      <td>1065347154078773250</td>\n",
       "      <td>228351372</td>\n",
       "      <td>If youre looking for legitimate relief organiz...</td>\n",
       "      <td>Wed Nov 21 20:52:09 +0000 2018</td>\n",
       "      <td>rescue_volunteering_or_donation_effort</td>\n",
       "      <td>[{'text': 'CA', 'type': 'State', 'start_offset...</td>\n",
       "    </tr>\n",
       "    <tr>\n",
       "      <th>1</th>\n",
       "      <td>1065256190727282689</td>\n",
       "      <td>2312720533</td>\n",
       "      <td>Like so many things, the destruction of Califo...</td>\n",
       "      <td>Wed Nov 21 14:50:42 +0000 2018</td>\n",
       "      <td>infrastructure_and_utility_damage</td>\n",
       "      <td>[{'text': 'Californias', 'type': 'State', 'sta...</td>\n",
       "    </tr>\n",
       "    <tr>\n",
       "      <th>2</th>\n",
       "      <td>1066000788177211393</td>\n",
       "      <td>16138559</td>\n",
       "      <td>Officials say 563 people are still unaccounted...</td>\n",
       "      <td>Fri Nov 23 16:09:27 +0000 2018</td>\n",
       "      <td>injured_or_dead_people</td>\n",
       "      <td>[]</td>\n",
       "    </tr>\n",
       "    <tr>\n",
       "      <th>3</th>\n",
       "      <td>1064315981365862400</td>\n",
       "      <td>225245091</td>\n",
       "      <td>The wait for Paradise: From young to old, evac...</td>\n",
       "      <td>Mon Nov 19 00:34:38 +0000 2018</td>\n",
       "      <td>displaced_people_and_evacuations</td>\n",
       "      <td>[{'text': 'Chico', 'type': 'City/town', 'start...</td>\n",
       "    </tr>\n",
       "    <tr>\n",
       "      <th>4</th>\n",
       "      <td>1067241739843325952</td>\n",
       "      <td>853466688926261248</td>\n",
       "      <td>BREAKING: Camp Fire death toll increases to 88...</td>\n",
       "      <td>Tue Nov 27 02:20:33 +0000 2018</td>\n",
       "      <td>injured_or_dead_people</td>\n",
       "      <td>[]</td>\n",
       "    </tr>\n",
       "  </tbody>\n",
       "</table>\n",
       "</div>"
      ],
      "text/plain": [
       "              tweet_id             user_id  \\\n",
       "0  1065347154078773250           228351372   \n",
       "1  1065256190727282689          2312720533   \n",
       "2  1066000788177211393            16138559   \n",
       "3  1064315981365862400           225245091   \n",
       "4  1067241739843325952  853466688926261248   \n",
       "\n",
       "                                                text  \\\n",
       "0  If youre looking for legitimate relief organiz...   \n",
       "1  Like so many things, the destruction of Califo...   \n",
       "2  Officials say 563 people are still unaccounted...   \n",
       "3  The wait for Paradise: From young to old, evac...   \n",
       "4  BREAKING: Camp Fire death toll increases to 88...   \n",
       "\n",
       "                       created_at                            humAID_class  \\\n",
       "0  Wed Nov 21 20:52:09 +0000 2018  rescue_volunteering_or_donation_effort   \n",
       "1  Wed Nov 21 14:50:42 +0000 2018       infrastructure_and_utility_damage   \n",
       "2  Fri Nov 23 16:09:27 +0000 2018                  injured_or_dead_people   \n",
       "3  Mon Nov 19 00:34:38 +0000 2018        displaced_people_and_evacuations   \n",
       "4  Tue Nov 27 02:20:33 +0000 2018                  injured_or_dead_people   \n",
       "\n",
       "                                   location_mentions  \n",
       "0  [{'text': 'CA', 'type': 'State', 'start_offset...  \n",
       "1  [{'text': 'Californias', 'type': 'State', 'sta...  \n",
       "2                                                 []  \n",
       "3  [{'text': 'Chico', 'type': 'City/town', 'start...  \n",
       "4                                                 []  "
      ]
     },
     "execution_count": 9,
     "metadata": {},
     "output_type": "execute_result"
    }
   ],
   "source": [
    "df2.head()"
   ]
  },
  {
   "cell_type": "code",
   "execution_count": 12,
   "metadata": {},
   "outputs": [
    {
     "data": {
      "text/plain": [
       "(130, 6)"
      ]
     },
     "execution_count": 12,
     "metadata": {},
     "output_type": "execute_result"
    }
   ],
   "source": [
    "df2.shape"
   ]
  },
  {
   "cell_type": "code",
   "execution_count": 13,
   "metadata": {},
   "outputs": [
    {
     "name": "stdout",
     "output_type": "stream",
     "text": [
      "<class 'pandas.core.frame.DataFrame'>\n",
      "RangeIndex: 130 entries, 0 to 129\n",
      "Data columns (total 6 columns):\n",
      " #   Column             Non-Null Count  Dtype \n",
      "---  ------             --------------  ----- \n",
      " 0   tweet_id           130 non-null    object\n",
      " 1   user_id            130 non-null    object\n",
      " 2   text               130 non-null    object\n",
      " 3   created_at         130 non-null    object\n",
      " 4   humAID_class       130 non-null    object\n",
      " 5   location_mentions  130 non-null    object\n",
      "dtypes: object(6)\n",
      "memory usage: 6.2+ KB\n"
     ]
    }
   ],
   "source": [
    "df2.info()"
   ]
  },
  {
   "cell_type": "code",
   "execution_count": 6,
   "metadata": {},
   "outputs": [
    {
     "data": {
      "text/html": [
       "<div>\n",
       "<style scoped>\n",
       "    .dataframe tbody tr th:only-of-type {\n",
       "        vertical-align: middle;\n",
       "    }\n",
       "\n",
       "    .dataframe tbody tr th {\n",
       "        vertical-align: top;\n",
       "    }\n",
       "\n",
       "    .dataframe thead th {\n",
       "        text-align: right;\n",
       "    }\n",
       "</style>\n",
       "<table border=\"1\" class=\"dataframe\">\n",
       "  <thead>\n",
       "    <tr style=\"text-align: right;\">\n",
       "      <th></th>\n",
       "      <th>tweet_id</th>\n",
       "      <th>user_id</th>\n",
       "      <th>text</th>\n",
       "      <th>created_at</th>\n",
       "      <th>humAID_class</th>\n",
       "      <th>location_mentions</th>\n",
       "    </tr>\n",
       "  </thead>\n",
       "  <tbody>\n",
       "    <tr>\n",
       "      <th>0</th>\n",
       "      <td>1061497252806414336</td>\n",
       "      <td>886453870120976384</td>\n",
       "      <td>Please read below!! Another devastating fire h...</td>\n",
       "      <td>Sun Nov 11 05:54:01 +0000 2018</td>\n",
       "      <td>requests_or_urgent_needs</td>\n",
       "      <td>[{'text': 'Northern California', 'type': 'Stat...</td>\n",
       "    </tr>\n",
       "    <tr>\n",
       "      <th>1</th>\n",
       "      <td>1061165982855634944</td>\n",
       "      <td>301309392</td>\n",
       "      <td>Celebrities evacuate California as wildfires rage</td>\n",
       "      <td>Sat Nov 10 07:57:40 +0000 2018</td>\n",
       "      <td>displaced_people_and_evacuations</td>\n",
       "      <td>[{'text': 'California', 'type': 'State', 'star...</td>\n",
       "    </tr>\n",
       "    <tr>\n",
       "      <th>2</th>\n",
       "      <td>1064248785914732544</td>\n",
       "      <td>973902672083419139</td>\n",
       "      <td>Grab one of these and HELP victims of Californ...</td>\n",
       "      <td>Sun Nov 18 20:07:38 +0000 2018</td>\n",
       "      <td>rescue_volunteering_or_donation_effort</td>\n",
       "      <td>[{'text': 'California', 'type': 'State', 'star...</td>\n",
       "    </tr>\n",
       "    <tr>\n",
       "      <th>3</th>\n",
       "      <td>1061160485364613121</td>\n",
       "      <td>412693014</td>\n",
       "      <td>the camp fire in Paradise California is growin...</td>\n",
       "      <td>Sat Nov 10 07:35:49 +0000 2018</td>\n",
       "      <td>missing_or_found_people</td>\n",
       "      <td>[{'text': 'Paradise', 'type': 'City/town', 'st...</td>\n",
       "    </tr>\n",
       "    <tr>\n",
       "      <th>4</th>\n",
       "      <td>1066508972650311682</td>\n",
       "      <td>818643843763568644</td>\n",
       "      <td>The area of documented destruction in the #Cam...</td>\n",
       "      <td>Sun Nov 25 01:48:48 +0000 2018</td>\n",
       "      <td>infrastructure_and_utility_damage</td>\n",
       "      <td>[]</td>\n",
       "    </tr>\n",
       "  </tbody>\n",
       "</table>\n",
       "</div>"
      ],
      "text/plain": [
       "              tweet_id             user_id  \\\n",
       "0  1061497252806414336  886453870120976384   \n",
       "1  1061165982855634944           301309392   \n",
       "2  1064248785914732544  973902672083419139   \n",
       "3  1061160485364613121           412693014   \n",
       "4  1066508972650311682  818643843763568644   \n",
       "\n",
       "                                                text  \\\n",
       "0  Please read below!! Another devastating fire h...   \n",
       "1  Celebrities evacuate California as wildfires rage   \n",
       "2  Grab one of these and HELP victims of Californ...   \n",
       "3  the camp fire in Paradise California is growin...   \n",
       "4  The area of documented destruction in the #Cam...   \n",
       "\n",
       "                       created_at                            humAID_class  \\\n",
       "0  Sun Nov 11 05:54:01 +0000 2018                requests_or_urgent_needs   \n",
       "1  Sat Nov 10 07:57:40 +0000 2018        displaced_people_and_evacuations   \n",
       "2  Sun Nov 18 20:07:38 +0000 2018  rescue_volunteering_or_donation_effort   \n",
       "3  Sat Nov 10 07:35:49 +0000 2018                 missing_or_found_people   \n",
       "4  Sun Nov 25 01:48:48 +0000 2018       infrastructure_and_utility_damage   \n",
       "\n",
       "                                   location_mentions  \n",
       "0  [{'text': 'Northern California', 'type': 'Stat...  \n",
       "1  [{'text': 'California', 'type': 'State', 'star...  \n",
       "2  [{'text': 'California', 'type': 'State', 'star...  \n",
       "3  [{'text': 'Paradise', 'type': 'City/town', 'st...  \n",
       "4                                                 []  "
      ]
     },
     "execution_count": 6,
     "metadata": {},
     "output_type": "execute_result"
    }
   ],
   "source": [
    "# Display the first few rows of the DataFrame\n",
    "df.head()\n"
   ]
  },
  {
   "cell_type": "code",
   "execution_count": 14,
   "metadata": {},
   "outputs": [
    {
     "name": "stdout",
     "output_type": "stream",
     "text": [
      "<class 'pandas.core.frame.DataFrame'>\n",
      "RangeIndex: 130 entries, 0 to 129\n",
      "Data columns (total 6 columns):\n",
      " #   Column             Non-Null Count  Dtype \n",
      "---  ------             --------------  ----- \n",
      " 0   tweet_id           130 non-null    object\n",
      " 1   user_id            130 non-null    object\n",
      " 2   text               130 non-null    object\n",
      " 3   created_at         130 non-null    object\n",
      " 4   humAID_class       130 non-null    object\n",
      " 5   location_mentions  130 non-null    object\n",
      "dtypes: object(6)\n",
      "memory usage: 6.2+ KB\n"
     ]
    }
   ],
   "source": [
    "df.info()"
   ]
  },
  {
   "cell_type": "code",
   "execution_count": 11,
   "metadata": {},
   "outputs": [
    {
     "data": {
      "text/plain": [
       "(130, 6)"
      ]
     },
     "execution_count": 11,
     "metadata": {},
     "output_type": "execute_result"
    }
   ],
   "source": [
    "df.shape"
   ]
  },
  {
   "cell_type": "code",
   "execution_count": 6,
   "metadata": {},
   "outputs": [],
   "source": [
    "# Replace missing values with empty strings  \n",
    "df = df.fillna('')  "
   ]
  },
  {
   "cell_type": "code",
   "execution_count": 8,
   "metadata": {},
   "outputs": [
    {
     "data": {
      "text/plain": [
       "tweet_id             0\n",
       "user_id              0\n",
       "text                 0\n",
       "created_at           0\n",
       "humAID_class         0\n",
       "location_mentions    0\n",
       "dtype: int64"
      ]
     },
     "execution_count": 8,
     "metadata": {},
     "output_type": "execute_result"
    }
   ],
   "source": [
    "df.isna().sum()"
   ]
  },
  {
   "cell_type": "code",
   "execution_count": 16,
   "metadata": {},
   "outputs": [],
   "source": [
    "# import nltk\n",
    "# from nltk.tokenize import word_tokenize\n",
    "\n",
    "# # Download the NLTK tokenizer resources\n",
    "# nltk.download('punkt')"
   ]
  },
  {
   "cell_type": "code",
   "execution_count": 14,
   "metadata": {},
   "outputs": [
    {
     "name": "stdout",
     "output_type": "stream",
     "text": [
      "Punkt tokenizer is available.\n"
     ]
    }
   ],
   "source": [
    "# from nltk.data import find\n",
    "\n",
    "# try:\n",
    "#     find('tokenizers/punkt')\n",
    "#     print(\"Punkt tokenizer is available.\")\n",
    "# except LookupError:\n",
    "#     print(\"Punkt tokenizer is not found.\")\n"
   ]
  },
  {
   "cell_type": "code",
   "execution_count": 15,
   "metadata": {},
   "outputs": [],
   "source": [
    "# # Tokenize the 'text' column\n",
    "# df['tokenized_text'] = df['text'].apply(word_tokenize)\n"
   ]
  },
  {
   "cell_type": "code",
   "execution_count": null,
   "metadata": {},
   "outputs": [],
   "source": [
    "import re\n",
    "\n",
    "# Define a function to clean text\n",
    "def clean_text(text):\n",
    "    text = re.sub(r'http\\S+|www\\S+|https\\S+', '', text, flags=re.MULTILINE)  # Remove URLs\n",
    "    text = re.sub(r'@\\w+', '', text)  # Remove mentions\n",
    "    text = re.sub(r'#\\w+', '', text)  # Remove hashtags\n",
    "    text = re.sub(r'[^\\w\\s]', '', text)  # Remove punctuation\n",
    "    return text\n",
    "\n",
    "# Apply the cleaning function\n",
    "df['cleaned_text'] = df['text_column'].apply(clean_text)\n"
   ]
  }
 ],
 "metadata": {
  "kernelspec": {
   "display_name": "venv",
   "language": "python",
   "name": "python3"
  },
  "language_info": {
   "codemirror_mode": {
    "name": "ipython",
    "version": 3
   },
   "file_extension": ".py",
   "mimetype": "text/x-python",
   "name": "python",
   "nbconvert_exporter": "python",
   "pygments_lexer": "ipython3",
   "version": "3.11.6"
  }
 },
 "nbformat": 4,
 "nbformat_minor": 2
}
