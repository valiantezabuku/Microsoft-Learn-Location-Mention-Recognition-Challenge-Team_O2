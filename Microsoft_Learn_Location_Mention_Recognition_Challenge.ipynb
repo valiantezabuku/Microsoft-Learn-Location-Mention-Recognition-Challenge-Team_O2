{
  "nbformat": 4,
  "nbformat_minor": 0,
  "metadata": {
    "colab": {
      "provenance": [],
      "authorship_tag": "ABX9TyNAwaSH9/9bQz3ckCu9fzIa",
      "include_colab_link": true
    },
    "kernelspec": {
      "name": "python3",
      "display_name": "Python 3"
    },
    "language_info": {
      "name": "python"
    }
  },
  "cells": [
    {
      "cell_type": "markdown",
      "metadata": {
        "id": "view-in-github",
        "colab_type": "text"
      },
      "source": [
        "<a href=\"https://colab.research.google.com/github/valiantezabuku/Microsoft-Learn-Location-Mention-Recognition-Challenge-Team_O2/blob/gabriel/Microsoft_Learn_Location_Mention_Recognition_Challenge.ipynb\" target=\"_parent\"><img src=\"https://colab.research.google.com/assets/colab-badge.svg\" alt=\"Open In Colab\"/></a>"
      ]
    },
    {
      "cell_type": "markdown",
      "source": [
        "# Microsoft Learn Location Mention Recognition Challenge\n"
      ],
      "metadata": {
        "id": "kdZ5CMU95dvP"
      }
    },
    {
      "cell_type": "code",
      "execution_count": 6,
      "metadata": {
        "colab": {
          "base_uri": "https://localhost:8080/"
        },
        "id": "B3NNOYsDzIcC",
        "outputId": "152cfafe-febd-4435-f647-fa0cc84f0ad9"
      },
      "outputs": [
        {
          "output_type": "stream",
          "name": "stdout",
          "text": [
            "Mounted at /content/drive/\n"
          ]
        }
      ],
      "source": [
        "# mount data folder in google drive\n",
        "from google.colab import drive\n",
        "drive.mount('/content/drive/')\n"
      ]
    }
  ]
}